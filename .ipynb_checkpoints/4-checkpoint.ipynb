{
 "cells": [
  {
   "cell_type": "code",
   "execution_count": 2,
   "id": "4f702548",
   "metadata": {},
   "outputs": [
    {
     "data": {
      "text/plain": [
       "(512, 512, 3)"
      ]
     },
     "execution_count": 2,
     "metadata": {},
     "output_type": "execute_result"
    }
   ],
   "source": [
    "import imageio.v2 as imageio\n",
    "img_arr = imageio.imread(\"/Users/jiaronghe/Desktop/DigitalXi/askAVet/pytorch-project/data/lena.jpg\")\n",
    "# width, height, rgb\n",
    "img_arr.shape\n"
   ]
  },
  {
   "cell_type": "code",
   "execution_count": 5,
   "id": "9a83a382",
   "metadata": {},
   "outputs": [
    {
     "data": {
      "text/plain": [
       "torch.Size([3, 512, 512])"
      ]
     },
     "execution_count": 5,
     "metadata": {},
     "output_type": "execute_result"
    }
   ],
   "source": [
    "import torch\n",
    "img = torch.from_numpy(img_arr)\n",
    "# modify dimension\n",
    "# rgb, width, height\n",
    "out = img.permute(2,0,1)\n",
    "out.shape"
   ]
  },
  {
   "cell_type": "code",
   "execution_count": 7,
   "id": "db47d3bf",
   "metadata": {},
   "outputs": [
    {
     "data": {
      "text/plain": [
       "tensor([[[[156, 152, 124,  ..., 150, 149, 158],\n",
       "          [174, 134, 165,  ..., 120, 136, 138],\n",
       "          [127, 156, 107,  ..., 131, 143, 164],\n",
       "          ...,\n",
       "          [116, 130, 129,  ..., 127, 118, 112],\n",
       "          [129, 130, 123,  ..., 115, 121, 114],\n",
       "          [129, 123, 118,  ..., 113, 121, 120]],\n",
       "\n",
       "         [[139, 135, 109,  ..., 135, 135, 147],\n",
       "          [160, 119, 149,  ..., 105, 122, 124],\n",
       "          [113, 140,  90,  ..., 118, 129, 152],\n",
       "          ...,\n",
       "          [ 99, 110, 111,  ..., 117, 108, 103],\n",
       "          [111, 111, 106,  ..., 106, 112, 105],\n",
       "          [111, 104, 102,  ..., 103, 110, 111]],\n",
       "\n",
       "         [[129, 123,  98,  ..., 131, 132, 145],\n",
       "          [155, 110, 137,  ..., 102, 119, 121],\n",
       "          [104, 132,  80,  ..., 112, 125, 146],\n",
       "          ...,\n",
       "          [ 93, 108, 105,  ..., 125, 115, 108],\n",
       "          [108, 108,  98,  ..., 110, 117, 110],\n",
       "          [107,  98,  95,  ..., 108, 115, 116]]],\n",
       "\n",
       "\n",
       "        [[[202, 193, 190,  ...,  13,  13,  12],\n",
       "          [199, 192, 189,  ...,  14,  14,  14],\n",
       "          [198, 193, 188,  ...,  12,  12,  12],\n",
       "          ...,\n",
       "          [ 93,  82,  76,  ...,  36,  36,  36],\n",
       "          [ 75,  68, 101,  ...,  36,  36,  37],\n",
       "          [ 85, 103,  90,  ...,  36,  37,  38]],\n",
       "\n",
       "         [[151, 139, 133,  ...,   9,   9,   8],\n",
       "          [151, 140, 134,  ...,  11,  11,  11],\n",
       "          [152, 143, 134,  ...,  11,  11,  11],\n",
       "          ...,\n",
       "          [ 57,  45,  39,  ...,  26,  26,  26],\n",
       "          [ 33,  26,  59,  ...,  26,  26,  27],\n",
       "          [ 40,  58,  45,  ...,  26,  27,  28]],\n",
       "\n",
       "         [[ 68,  53,  44,  ...,   6,   6,   5],\n",
       "          [ 67,  54,  44,  ...,   6,   6,   6],\n",
       "          [ 67,  56,  44,  ...,   6,   6,   6],\n",
       "          ...,\n",
       "          [ 31,  19,  12,  ...,  17,  17,  17],\n",
       "          [ 11,   2,  35,  ...,  17,  17,  18],\n",
       "          [ 19,  37,  22,  ...,  17,  18,  19]]],\n",
       "\n",
       "\n",
       "        [[[238, 238, 238,  ..., 214, 215, 215],\n",
       "          [238, 238, 238,  ..., 214, 215, 215],\n",
       "          [238, 238, 238,  ..., 214, 215, 215],\n",
       "          ...,\n",
       "          [214, 213, 212,  ..., 187, 190, 193],\n",
       "          [214, 213, 212,  ..., 186, 190, 192],\n",
       "          [214, 213, 212,  ..., 186, 190, 192]],\n",
       "\n",
       "         [[195, 195, 195,  ..., 173, 175, 175],\n",
       "          [195, 195, 195,  ..., 173, 175, 175],\n",
       "          [195, 195, 195,  ..., 173, 175, 175],\n",
       "          ...,\n",
       "          [128, 127, 126,  ..., 100, 103, 106],\n",
       "          [128, 127, 126,  ...,  99, 103, 105],\n",
       "          [128, 127, 126,  ...,  99, 103, 105]],\n",
       "\n",
       "         [[137, 137, 137,  ..., 125, 126, 126],\n",
       "          [137, 137, 137,  ..., 125, 126, 126],\n",
       "          [137, 137, 137,  ..., 125, 126, 126],\n",
       "          ...,\n",
       "          [ 79,  78,  77,  ...,  64,  68,  72],\n",
       "          [ 79,  78,  77,  ...,  64,  69,  71],\n",
       "          [ 79,  78,  77,  ...,  65,  69,  72]]]], dtype=torch.uint8)"
      ]
     },
     "execution_count": 7,
     "metadata": {},
     "output_type": "execute_result"
    }
   ],
   "source": [
    "batch_size = 3\n",
    "batch = torch.zeros(batch_size, 3, 256, 256, dtype=torch.uint8)\n",
    "\n",
    "import os\n",
    "data_dir = \"/Users/jiaronghe/Desktop/DigitalXi/askAVet/pytorch-project/data/cats/\"\n",
    "filenames = [name for name in os.listdir(data_dir) if os.path.splitext(name)[-1] == '.png']\n",
    "\n",
    "for i,filename in enumerate(filenames):\n",
    "    img_arr = imageio.imread(os.path.join(data_dir, filename))\n",
    "    img_t = torch.from_numpy(img_arr)\n",
    "    img_t = img_t.permute(2,0,1)\n",
    "    img_t = img_t[:3]\n",
    "    batch[i] = img_t\n",
    "    \n",
    "batch  "
   ]
  },
  {
   "cell_type": "code",
   "execution_count": 8,
   "id": "6bbf6d1c",
   "metadata": {},
   "outputs": [
    {
     "name": "stdout",
     "output_type": "stream",
     "text": [
      "Reading DICOM (examining files): 1/99 files (1.0%87/99 files (87.9%99/99 files (100.0%)\n",
      "  Found 1 correct series.\n",
      "Reading DICOM (loading data): 60/99  (60.699/99  (100.0%)\n"
     ]
    },
    {
     "data": {
      "text/plain": [
       "(99, 512, 512)"
      ]
     },
     "execution_count": 8,
     "metadata": {},
     "output_type": "execute_result"
    }
   ],
   "source": [
    "dir_path = \"/Users/jiaronghe/Desktop/DigitalXi/askAVet/pytorch-project/data/dicom\"\n",
    "vol_arr = imageio.volread(dir_path, \"DICOM\")\n",
    "vol_arr.shape\n",
    "\n",
    "\n"
   ]
  },
  {
   "cell_type": "code",
   "execution_count": 9,
   "id": "15b43713",
   "metadata": {},
   "outputs": [
    {
     "data": {
      "text/plain": [
       "torch.Size([1, 99, 512, 512])"
      ]
     },
     "execution_count": 9,
     "metadata": {},
     "output_type": "execute_result"
    }
   ],
   "source": [
    "vol = torch.from_numpy(vol_arr).float()\n",
    "vol = torch.unsqueeze(vol, 0)\n",
    "vol.shape"
   ]
  },
  {
   "cell_type": "code",
   "execution_count": 11,
   "id": "9d8acc84",
   "metadata": {},
   "outputs": [
    {
     "data": {
      "text/plain": [
       "array([[ 7.  ,  0.27,  0.36, ...,  0.45,  8.8 ,  6.  ],\n",
       "       [ 6.3 ,  0.3 ,  0.34, ...,  0.49,  9.5 ,  6.  ],\n",
       "       [ 8.1 ,  0.28,  0.4 , ...,  0.44, 10.1 ,  6.  ],\n",
       "       ...,\n",
       "       [ 6.5 ,  0.24,  0.19, ...,  0.46,  9.4 ,  6.  ],\n",
       "       [ 5.5 ,  0.29,  0.3 , ...,  0.38, 12.8 ,  7.  ],\n",
       "       [ 6.  ,  0.21,  0.38, ...,  0.32, 11.8 ,  6.  ]], dtype=float32)"
      ]
     },
     "execution_count": 11,
     "metadata": {},
     "output_type": "execute_result"
    }
   ],
   "source": [
    "import numpy as np\n",
    "import csv\n",
    "\n",
    "wine_path = \"/Users/jiaronghe/Desktop/DigitalXi/askAVet/pytorch-project/data/winequality.csv\"\n",
    "wineq_numpy = np.loadtxt(wine_path, dtype=np.float32, delimiter=\";\", skiprows=1)\n",
    "wineq_numpy\n",
    "\n",
    "\n",
    "\n"
   ]
  },
  {
   "cell_type": "code",
   "execution_count": 13,
   "id": "d1a78b55",
   "metadata": {},
   "outputs": [
    {
     "data": {
      "text/plain": [
       "((4898, 12),\n",
       " ['fixed acidity',\n",
       "  'volatile acidity',\n",
       "  'citric acid',\n",
       "  'residual sugar',\n",
       "  'chlorides',\n",
       "  'free sulfur dioxide',\n",
       "  'total sulfur dioxide',\n",
       "  'density',\n",
       "  'pH',\n",
       "  'sulphates',\n",
       "  'alcohol',\n",
       "  'quality'])"
      ]
     },
     "execution_count": 13,
     "metadata": {},
     "output_type": "execute_result"
    }
   ],
   "source": [
    "col_list = next(csv.reader(open(wine_path), delimiter=\";\"))\n",
    "wineq_numpy.shape, col_list\n",
    "\n"
   ]
  },
  {
   "cell_type": "code",
   "execution_count": 14,
   "id": "1e79da57",
   "metadata": {},
   "outputs": [
    {
     "data": {
      "text/plain": [
       "(torch.Size([4898, 12]), torch.float32)"
      ]
     },
     "execution_count": 14,
     "metadata": {},
     "output_type": "execute_result"
    }
   ],
   "source": [
    "wineq = torch.from_numpy(wineq_numpy)\n",
    "wineq.shape, wineq.dtype"
   ]
  },
  {
   "cell_type": "code",
   "execution_count": 15,
   "id": "ce462577",
   "metadata": {},
   "outputs": [
    {
     "data": {
      "text/plain": [
       "(tensor([[ 7.0000,  0.2700,  0.3600,  ...,  3.0000,  0.4500,  8.8000],\n",
       "         [ 6.3000,  0.3000,  0.3400,  ...,  3.3000,  0.4900,  9.5000],\n",
       "         [ 8.1000,  0.2800,  0.4000,  ...,  3.2600,  0.4400, 10.1000],\n",
       "         ...,\n",
       "         [ 6.5000,  0.2400,  0.1900,  ...,  2.9900,  0.4600,  9.4000],\n",
       "         [ 5.5000,  0.2900,  0.3000,  ...,  3.3400,  0.3800, 12.8000],\n",
       "         [ 6.0000,  0.2100,  0.3800,  ...,  3.2600,  0.3200, 11.8000]]),\n",
       " torch.Size([4898, 11]))"
      ]
     },
     "execution_count": 15,
     "metadata": {},
     "output_type": "execute_result"
    }
   ],
   "source": [
    "data = wineq[:,:-1]\n",
    "data, data.shape"
   ]
  },
  {
   "cell_type": "code",
   "execution_count": 16,
   "id": "60096ade",
   "metadata": {},
   "outputs": [
    {
     "data": {
      "text/plain": [
       "(tensor([6., 6., 6.,  ..., 6., 7., 6.]), torch.Size([4898]))"
      ]
     },
     "execution_count": 16,
     "metadata": {},
     "output_type": "execute_result"
    }
   ],
   "source": [
    "target = wineq[:,-1]\n",
    "target, target.shape"
   ]
  },
  {
   "cell_type": "code",
   "execution_count": 17,
   "id": "d512ee81",
   "metadata": {},
   "outputs": [
    {
     "data": {
      "text/plain": [
       "tensor([6, 6, 6,  ..., 6, 7, 6])"
      ]
     },
     "execution_count": 17,
     "metadata": {},
     "output_type": "execute_result"
    }
   ],
   "source": [
    "target = wineq[:,-1].long()\n",
    "target"
   ]
  },
  {
   "cell_type": "code",
   "execution_count": 22,
   "id": "7dacd57d",
   "metadata": {},
   "outputs": [
    {
     "data": {
      "text/plain": [
       "torch.Size([17520, 17])"
      ]
     },
     "execution_count": 22,
     "metadata": {},
     "output_type": "execute_result"
    }
   ],
   "source": [
    "bike_numpy = np.loadtxt(\n",
    "    \"/Users/jiaronghe/Desktop/DigitalXi/askAVet/pytorch-project/data/bike-sharing/hour-fixed.csv\",\n",
    "    dtype=np.float32,\n",
    "    delimiter=\",\",\n",
    "    skiprows=1,\n",
    "    converters={1:lambda x: float(x[8:10])}\n",
    ")\n",
    "\n",
    "bikes = torch.from_numpy(bike_numpy)\n",
    "bikes.shape\n"
   ]
  },
  {
   "cell_type": "code",
   "execution_count": 23,
   "id": "cb0e3615",
   "metadata": {},
   "outputs": [
    {
     "data": {
      "text/plain": [
       "(17, 1)"
      ]
     },
     "execution_count": 23,
     "metadata": {},
     "output_type": "execute_result"
    }
   ],
   "source": [
    "bikes.stride()"
   ]
  },
  {
   "cell_type": "code",
   "execution_count": 24,
   "id": "44794619",
   "metadata": {},
   "outputs": [
    {
     "data": {
      "text/plain": [
       "(torch.Size([730, 24, 17]), (408, 17, 1))"
      ]
     },
     "execution_count": 24,
     "metadata": {},
     "output_type": "execute_result"
    }
   ],
   "source": [
    "daily_bikes = bikes.view(-1, 24, bikes.shape[1])\n",
    "daily_bikes.shape, daily_bikes.stride()"
   ]
  },
  {
   "cell_type": "code",
   "execution_count": null,
   "id": "12966590",
   "metadata": {},
   "outputs": [],
   "source": [
    "\n",
    "\n",
    "target_onehot = torch.zeros(target.shape[0], 10)\n",
    "target_onehot.scatter_(1, target.unsqueeze(1), 1.0)"
   ]
  }
 ],
 "metadata": {
  "kernelspec": {
   "display_name": "Python 3 (ipykernel)",
   "language": "python",
   "name": "python3"
  },
  "language_info": {
   "codemirror_mode": {
    "name": "ipython",
    "version": 3
   },
   "file_extension": ".py",
   "mimetype": "text/x-python",
   "name": "python",
   "nbconvert_exporter": "python",
   "pygments_lexer": "ipython3",
   "version": "3.9.7"
  }
 },
 "nbformat": 4,
 "nbformat_minor": 5
}
