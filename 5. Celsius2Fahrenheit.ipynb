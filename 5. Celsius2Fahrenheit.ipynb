{
 "cells": [
  {
   "cell_type": "code",
   "execution_count": 2,
   "id": "cd34c7ef",
   "metadata": {},
   "outputs": [],
   "source": [
    "%matplotlib inline\n",
    "import numpy as np\n",
    "import torch\n",
    "\n",
    "torch.set_printoptions(edgeitems=2, linewidth=75)"
   ]
  },
  {
   "cell_type": "code",
   "execution_count": 3,
   "id": "69bd8375",
   "metadata": {},
   "outputs": [],
   "source": [
    "t_c = [0.5, 14.0, 15.0, 28.0, 11.0, 8.0, 3.0, -4.0, 6.0, 13.0, 21.0]\n",
    "t_u = [35.7, 55.9, 58.2, 81.9, 56.3, 48.9, 33.9, 21.8, 48.4, 60.4, 68.4]\n",
    "\n"
   ]
  },
  {
   "cell_type": "code",
   "execution_count": 4,
   "id": "b81fa1ce",
   "metadata": {},
   "outputs": [],
   "source": [
    "t_c = torch.tensor(t_c)\n",
    "t_u = torch.tensor(t_u)"
   ]
  },
  {
   "cell_type": "code",
   "execution_count": 5,
   "id": "18f9ee73",
   "metadata": {},
   "outputs": [
    {
     "data": {
      "text/plain": [
       "tensor([ 0.5000, 14.0000, 15.0000, 28.0000, 11.0000,  8.0000,  3.0000,\n",
       "        -4.0000,  6.0000, 13.0000, 21.0000])"
      ]
     },
     "execution_count": 5,
     "metadata": {},
     "output_type": "execute_result"
    }
   ],
   "source": [
    "t_c"
   ]
  },
  {
   "cell_type": "code",
   "execution_count": 6,
   "id": "40fabeab",
   "metadata": {},
   "outputs": [
    {
     "data": {
      "text/plain": [
       "tensor([35.7000, 55.9000, 58.2000, 81.9000, 56.3000, 48.9000, 33.9000,\n",
       "        21.8000, 48.4000, 60.4000, 68.4000])"
      ]
     },
     "execution_count": 6,
     "metadata": {},
     "output_type": "execute_result"
    }
   ],
   "source": [
    "t_u"
   ]
  },
  {
   "cell_type": "code",
   "execution_count": 7,
   "id": "670bb56e",
   "metadata": {},
   "outputs": [
    {
     "data": {
      "image/png": "[encoded data removed]",
      "text/plain": [
       "<Figure size 640x480 with 1 Axes>"
      ]
     },
     "metadata": {},
     "output_type": "display_data"
    }
   ],
   "source": [
    "import matplotlib.pyplot as plt\n",
    "\n",
    "fig = plt.figure()\n",
    "plt.scatter(t_u, t_c, c=\"b\", edgecolors=\"r\")\n",
    "plt.show()\n"
   ]
  },
  {
   "cell_type": "code",
   "execution_count": 8,
   "id": "e6cfe4ec",
   "metadata": {},
   "outputs": [],
   "source": [
    "def model(t_u, w, b):\n",
    "    return w * t_u + b"
   ]
  },
  {
   "cell_type": "code",
   "execution_count": 9,
   "id": "4ae461f1",
   "metadata": {},
   "outputs": [],
   "source": [
    "# loss: 2 ways to calculate the loss function\n",
    "# 1. |t_p - t_c|\n",
    "# 2. (t_p - t_c)^2 (x)\n",
    "\n",
    "def loss_fn(t_p, t_c):\n",
    "    squared_diffs = (t_p - t_c) ** 2\n",
    "    return squared_diffs.mean()"
   ]
  },
  {
   "cell_type": "code",
   "execution_count": 10,
   "id": "c96f6ad8",
   "metadata": {},
   "outputs": [
    {
     "data": {
      "text/plain": [
       "tensor([35.7000, 55.9000, 58.2000, 81.9000, 56.3000, 48.9000, 33.9000,\n",
       "        21.8000, 48.4000, 60.4000, 68.4000])"
      ]
     },
     "execution_count": 10,
     "metadata": {},
     "output_type": "execute_result"
    }
   ],
   "source": [
    "# first trial\n",
    "w = torch.ones(())\n",
    "b = torch.zeros(())\n",
    "\n",
    "t_p = model(t_u, w, b)\n",
    "t_p"
   ]
  },
  {
   "cell_type": "code",
   "execution_count": 11,
   "id": "19920a16",
   "metadata": {},
   "outputs": [
    {
     "data": {
      "text/plain": [
       "tensor(1763.8848)"
      ]
     },
     "execution_count": 11,
     "metadata": {},
     "output_type": "execute_result"
    }
   ],
   "source": [
    "loss = loss_fn(t_p, t_c)\n",
    "loss"
   ]
  },
  {
   "cell_type": "code",
   "execution_count": 12,
   "id": "82f3ba44",
   "metadata": {},
   "outputs": [
    {
     "data": {
      "text/plain": [
       "tensor([0., 0., 0., 0., 0., 0., 0., 0., 0., 0., 0.])"
      ]
     },
     "execution_count": 12,
     "metadata": {},
     "output_type": "execute_result"
    }
   ],
   "source": [
    "# second trial\n",
    "w = torch.zeros(())\n",
    "b = torch.zeros(())\n",
    "\n",
    "t_p = model(t_u, w, b)\n",
    "t_p"
   ]
  },
  {
   "cell_type": "code",
   "execution_count": 13,
   "id": "630102ba",
   "metadata": {},
   "outputs": [
    {
     "data": {
      "text/plain": [
       "tensor(187.3864)"
      ]
     },
     "execution_count": 13,
     "metadata": {},
     "output_type": "execute_result"
    }
   ],
   "source": [
    "loss = loss_fn(t_p, t_c)\n",
    "loss"
   ]
  },
  {
   "cell_type": "code",
   "execution_count": 14,
   "id": "17358ab8",
   "metadata": {},
   "outputs": [],
   "source": [
    "# dloss func\n",
    "def dloss_fn(t_p, t_c):\n",
    "    dsq_diffs = 2 * (t_p - t_c) / t_p.size(0)\n",
    "    return dsq_diffs\n",
    "\n",
    "def dmodel_dw(t_u, w, b):\n",
    "    return t_u\n",
    "\n",
    "def dmodel_db(t_u, w, b):\n",
    "    return 1.0\n",
    "\n",
    "# grad func\n",
    "def grad_fn(t_u, t_c, t_p, w, b):\n",
    "    dloss_dtp = dloss_fn(t_p, t_c)\n",
    "    dloss_dw = dloss_dtp * dmodel_dw(t_u, w, b)\n",
    "    dloss_db = dloss_dtp * dmodel_db(t_u, w, b)\n",
    "    return torch.stack([\n",
    "        dloss_dw.sum(),\n",
    "        dloss_db.sum(),\n",
    "    ])\n",
    "    "
   ]
  },
  {
   "cell_type": "code",
   "execution_count": 15,
   "id": "1fb9bb87",
   "metadata": {},
   "outputs": [],
   "source": [
    "# learning rate: 0.01 ~ 0.0001\n",
    "# 100 times lower before finish\n",
    "learning_rate = 1e-2\n",
    "delta = 0.1\n",
    "\n",
    "# adjust w\n",
    "loss_rate_of_change_w = (\n",
    "    loss_fn(\n",
    "        model(t_u, w + delta, b),\n",
    "        t_c\n",
    "    ) - loss_fn(\n",
    "        model(t_u, w - delta, b),\n",
    "        t_c\n",
    "    )\n",
    ") / (2.0 * delta)\n",
    "w = w - learning_rate * loss_rate_of_change_w\n",
    "\n",
    "# adjust b\n",
    "loss_rate_of_change_b = (\n",
    "    loss_fn(\n",
    "        model(t_u, w, b + delta),\n",
    "        t_c\n",
    "    ) - loss_fn(\n",
    "        model(t_u, w, b - delta),\n",
    "        t_c\n",
    "    )\n",
    ") / (2.0 * delta)\n",
    "b = b - learning_rate * loss_rate_of_change_b"
   ]
  },
  {
   "cell_type": "code",
   "execution_count": 17,
   "id": "4fa9ac2c",
   "metadata": {},
   "outputs": [],
   "source": [
    "# training loop\n",
    "def training_loop(n_epochs, learning_rate, params, t_u, t_c):\n",
    "    for epoch in range(1, n_epochs+1):\n",
    "        w,b = params\n",
    "        t_p = model(t_u, w, b)\n",
    "        loss = loss_fn(t_p, t_c)\n",
    "        grad = grad_fn(t_u, t_c, t_p, w, b)\n",
    "        params = params - learning_rate * grad\n",
    "        print(\"Epoch %d, Loss %f\" % (epoch, float(loss)))\n",
    "    return params"
   ]
  },
  {
   "cell_type": "code",
   "execution_count": 27,
   "id": "f5888684",
   "metadata": {},
   "outputs": [
    {
     "name": "stdout",
     "output_type": "stream",
     "text": [
      "Epoch 1, Loss 1763.884766\n",
      "Epoch 2, Loss 1565.761353\n",
      "Epoch 3, Loss 1390.265503\n",
      "Epoch 4, Loss 1234.812378\n",
      "Epoch 5, Loss 1097.112793\n",
      "Epoch 6, Loss 975.139709\n",
      "Epoch 7, Loss 867.096741\n",
      "Epoch 8, Loss 771.393005\n",
      "Epoch 9, Loss 686.619385\n",
      "Epoch 10, Loss 611.527405\n",
      "Epoch 11, Loss 545.011597\n",
      "Epoch 12, Loss 486.092102\n",
      "Epoch 13, Loss 433.901764\n",
      "Epoch 14, Loss 387.671875\n",
      "Epoch 15, Loss 346.721710\n",
      "Epoch 16, Loss 310.448425\n",
      "Epoch 17, Loss 278.317719\n",
      "Epoch 18, Loss 249.856598\n",
      "Epoch 19, Loss 224.645859\n",
      "Epoch 20, Loss 202.314407\n",
      "Epoch 21, Loss 182.533356\n",
      "Epoch 22, Loss 165.011398\n",
      "Epoch 23, Loss 149.490631\n",
      "Epoch 24, Loss 135.742371\n",
      "Epoch 25, Loss 123.564278\n",
      "Epoch 26, Loss 112.776932\n",
      "Epoch 27, Loss 103.221649\n",
      "Epoch 28, Loss 94.757591\n",
      "Epoch 29, Loss 87.260178\n",
      "Epoch 30, Loss 80.619034\n",
      "Epoch 31, Loss 74.736320\n",
      "Epoch 32, Loss 69.525452\n",
      "Epoch 33, Loss 64.909691\n",
      "Epoch 34, Loss 60.821049\n",
      "Epoch 35, Loss 57.199379\n",
      "Epoch 36, Loss 53.991299\n",
      "Epoch 37, Loss 51.149609\n",
      "Epoch 38, Loss 48.632435\n",
      "Epoch 39, Loss 46.402737\n",
      "Epoch 40, Loss 44.427666\n",
      "Epoch 41, Loss 42.678158\n",
      "Epoch 42, Loss 41.128445\n",
      "Epoch 43, Loss 39.755707\n",
      "Epoch 44, Loss 38.539734\n",
      "Epoch 45, Loss 37.462631\n",
      "Epoch 46, Loss 36.508522\n",
      "Epoch 47, Loss 35.663372\n",
      "Epoch 48, Loss 34.914734\n",
      "Epoch 49, Loss 34.251587\n",
      "Epoch 50, Loss 33.664169\n",
      "Epoch 51, Loss 33.143826\n",
      "Epoch 52, Loss 32.682896\n",
      "Epoch 53, Loss 32.274593\n",
      "Epoch 54, Loss 31.912916\n",
      "Epoch 55, Loss 31.592529\n",
      "Epoch 56, Loss 31.308729\n",
      "Epoch 57, Loss 31.057329\n",
      "Epoch 58, Loss 30.834631\n",
      "Epoch 59, Loss 30.637358\n",
      "Epoch 60, Loss 30.462597\n",
      "Epoch 61, Loss 30.307789\n",
      "Epoch 62, Loss 30.170654\n",
      "Epoch 63, Loss 30.049162\n",
      "Epoch 64, Loss 29.941536\n",
      "Epoch 65, Loss 29.846193\n",
      "Epoch 66, Loss 29.761732\n",
      "Epoch 67, Loss 29.686907\n",
      "Epoch 68, Loss 29.620611\n",
      "Epoch 69, Loss 29.561878\n",
      "Epoch 70, Loss 29.509846\n",
      "Epoch 71, Loss 29.463743\n",
      "Epoch 72, Loss 29.422899\n",
      "Epoch 73, Loss 29.386707\n",
      "Epoch 74, Loss 29.354631\n",
      "Epoch 75, Loss 29.326220\n",
      "Epoch 76, Loss 29.301031\n",
      "Epoch 77, Loss 29.278717\n",
      "Epoch 78, Loss 29.258936\n",
      "Epoch 79, Loss 29.241405\n",
      "Epoch 80, Loss 29.225863\n",
      "Epoch 81, Loss 29.212090\n",
      "Epoch 82, Loss 29.199877\n",
      "Epoch 83, Loss 29.189049\n",
      "Epoch 84, Loss 29.179455\n",
      "Epoch 85, Loss 29.170937\n",
      "Epoch 86, Loss 29.163383\n",
      "Epoch 87, Loss 29.156677\n",
      "Epoch 88, Loss 29.150734\n",
      "Epoch 89, Loss 29.145458\n",
      "Epoch 90, Loss 29.140766\n",
      "Epoch 91, Loss 29.136608\n",
      "Epoch 92, Loss 29.132912\n",
      "Epoch 93, Loss 29.129627\n",
      "Epoch 94, Loss 29.126709\n",
      "Epoch 95, Loss 29.124109\n",
      "Epoch 96, Loss 29.121801\n",
      "Epoch 97, Loss 29.119745\n",
      "Epoch 98, Loss 29.117912\n",
      "Epoch 99, Loss 29.116278\n",
      "Epoch 100, Loss 29.114819\n"
     ]
    },
    {
     "data": {
      "text/plain": [
       "tensor([ 0.2340, -0.0165])"
      ]
     },
     "execution_count": 27,
     "metadata": {},
     "output_type": "execute_result"
    }
   ],
   "source": [
    "training_loop(\n",
    "    n_epochs = 100,\n",
    "    learning_rate = 1e-5,\n",
    "    params = torch.tensor([1.0, 0.0]),\n",
    "    t_u = t_u,\n",
    "    t_c = t_c,\n",
    ")"
   ]
  },
  {
   "cell_type": "code",
   "execution_count": 29,
   "id": "80272c67",
   "metadata": {},
   "outputs": [
    {
     "name": "stdout",
     "output_type": "stream",
     "text": [
      "Epoch 1, Loss 80.364342\n",
      "Epoch 2, Loss 37.574913\n",
      "Epoch 3, Loss 30.871077\n",
      "Epoch 4, Loss 29.756193\n",
      "Epoch 5, Loss 29.507153\n",
      "Epoch 6, Loss 29.392456\n",
      "Epoch 7, Loss 29.298828\n",
      "Epoch 8, Loss 29.208717\n",
      "Epoch 9, Loss 29.119415\n",
      "Epoch 10, Loss 29.030489\n",
      "Epoch 11, Loss 28.941877\n",
      "Epoch 12, Loss 28.853565\n",
      "Epoch 13, Loss 28.765553\n",
      "Epoch 14, Loss 28.677851\n",
      "Epoch 15, Loss 28.590431\n",
      "Epoch 16, Loss 28.503319\n",
      "Epoch 17, Loss 28.416498\n",
      "Epoch 18, Loss 28.329973\n",
      "Epoch 19, Loss 28.243742\n",
      "Epoch 20, Loss 28.157804\n",
      "Epoch 21, Loss 28.072151\n",
      "Epoch 22, Loss 27.986797\n",
      "Epoch 23, Loss 27.901728\n",
      "Epoch 24, Loss 27.816950\n",
      "Epoch 25, Loss 27.732464\n",
      "Epoch 26, Loss 27.648256\n",
      "Epoch 27, Loss 27.564344\n",
      "Epoch 28, Loss 27.480707\n",
      "Epoch 29, Loss 27.397362\n",
      "Epoch 30, Loss 27.314295\n",
      "Epoch 31, Loss 27.231512\n",
      "Epoch 32, Loss 27.149010\n",
      "Epoch 33, Loss 27.066790\n",
      "Epoch 34, Loss 26.984844\n",
      "Epoch 35, Loss 26.903175\n",
      "Epoch 36, Loss 26.821791\n",
      "Epoch 37, Loss 26.740679\n",
      "Epoch 38, Loss 26.659838\n",
      "Epoch 39, Loss 26.579279\n",
      "Epoch 40, Loss 26.498987\n",
      "Epoch 41, Loss 26.418974\n",
      "Epoch 42, Loss 26.339228\n",
      "Epoch 43, Loss 26.259754\n",
      "Epoch 44, Loss 26.180548\n",
      "Epoch 45, Loss 26.101616\n",
      "Epoch 46, Loss 26.022947\n",
      "Epoch 47, Loss 25.944544\n",
      "Epoch 48, Loss 25.866417\n",
      "Epoch 49, Loss 25.788549\n",
      "Epoch 50, Loss 25.710938\n",
      "Epoch 51, Loss 25.633600\n",
      "Epoch 52, Loss 25.556524\n",
      "Epoch 53, Loss 25.479700\n",
      "Epoch 54, Loss 25.403149\n",
      "Epoch 55, Loss 25.326851\n",
      "Epoch 56, Loss 25.250811\n",
      "Epoch 57, Loss 25.175035\n",
      "Epoch 58, Loss 25.099512\n",
      "Epoch 59, Loss 25.024248\n",
      "Epoch 60, Loss 24.949236\n",
      "Epoch 61, Loss 24.874483\n",
      "Epoch 62, Loss 24.799976\n",
      "Epoch 63, Loss 24.725737\n",
      "Epoch 64, Loss 24.651739\n",
      "Epoch 65, Loss 24.577986\n",
      "Epoch 66, Loss 24.504494\n",
      "Epoch 67, Loss 24.431252\n",
      "Epoch 68, Loss 24.358257\n",
      "Epoch 69, Loss 24.285505\n",
      "Epoch 70, Loss 24.212999\n",
      "Epoch 71, Loss 24.140741\n",
      "Epoch 72, Loss 24.068733\n",
      "Epoch 73, Loss 23.996971\n",
      "Epoch 74, Loss 23.925446\n",
      "Epoch 75, Loss 23.854168\n",
      "Epoch 76, Loss 23.783125\n",
      "Epoch 77, Loss 23.712328\n",
      "Epoch 78, Loss 23.641773\n",
      "Epoch 79, Loss 23.571455\n",
      "Epoch 80, Loss 23.501379\n",
      "Epoch 81, Loss 23.431538\n",
      "Epoch 82, Loss 23.361937\n",
      "Epoch 83, Loss 23.292570\n",
      "Epoch 84, Loss 23.223436\n",
      "Epoch 85, Loss 23.154541\n",
      "Epoch 86, Loss 23.085882\n",
      "Epoch 87, Loss 23.017447\n",
      "Epoch 88, Loss 22.949251\n",
      "Epoch 89, Loss 22.881283\n",
      "Epoch 90, Loss 22.813549\n",
      "Epoch 91, Loss 22.746044\n",
      "Epoch 92, Loss 22.678766\n",
      "Epoch 93, Loss 22.611717\n",
      "Epoch 94, Loss 22.544899\n",
      "Epoch 95, Loss 22.478306\n",
      "Epoch 96, Loss 22.411934\n",
      "Epoch 97, Loss 22.345793\n",
      "Epoch 98, Loss 22.279875\n",
      "Epoch 99, Loss 22.214186\n",
      "Epoch 100, Loss 22.148710\n"
     ]
    }
   ],
   "source": [
    "# normalize t_u with 0.1\n",
    "t_un = 0.1 * t_u\n",
    "params = training_loop(\n",
    "    n_epochs = 100,\n",
    "    learning_rate = 1e-2, # now we can use larger learning rate\n",
    "    params = torch.tensor([1.0, 0.0]),\n",
    "    t_u = t_un,\n",
    "    t_c = t_c,\n",
    ")"
   ]
  },
  {
   "cell_type": "code",
   "execution_count": null,
   "id": "9326bb4f",
   "metadata": {},
   "outputs": [],
   "source": [
    "# normaliztion\n",
    "# 1. batch - image\n",
    "# 2. layer - txt\n",
    "# 3. instance - gan\n",
    "# 4. group - bn with small batch of data"
   ]
  }
 ],
 "metadata": {
  "kernelspec": {
   "display_name": "Python 3 (ipykernel)",
   "language": "python",
   "name": "python3"
  },
  "language_info": {
   "codemirror_mode": {
    "name": "ipython",
    "version": 3
   },
   "file_extension": ".py",
   "mimetype": "text/x-python",
   "name": "python",
   "nbconvert_exporter": "python",
   "pygments_lexer": "ipython3",
   "version": "3.9.7"
  }
 },
 "nbformat": 4,
 "nbformat_minor": 5
}
